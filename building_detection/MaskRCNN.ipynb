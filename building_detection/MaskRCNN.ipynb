{
  "nbformat": 4,
  "nbformat_minor": 0,
  "metadata": {
    "colab": {
      "name": "MaskRCNN.ipynb",
      "provenance": [],
      "collapsed_sections": []
    },
    "kernelspec": {
      "name": "python3",
      "display_name": "Python 3"
    },
    "accelerator": "GPU"
  },
  "cells": [
    {
      "cell_type": "code",
      "metadata": {
        "colab": {
          "base_uri": "https://localhost:8080/"
        },
        "id": "FZm0WoIxQnpo",
        "outputId": "d23e1d62-dade-4559-8026-949d10bb3a83"
      },
      "source": [
        "#%tensorflow_version 1.15.3\n",
        "\n",
        "#import tensorflow as tf\n",
        "#import keras\n",
        "\n",
        "#print(tf.__version__)\n",
        "#print(tf.test.is_gpu_available())\n",
        "#print(keras.__version__)"
      ],
      "execution_count": null,
      "outputs": [
        {
          "output_type": "stream",
          "text": [
            "`%tensorflow_version` only switches the major version: 1.x or 2.x.\n",
            "You set: `1.15.3`. This will be interpreted as: `1.x`.\n",
            "\n",
            "\n",
            "TensorFlow is already loaded. Please restart the runtime to change versions.\n",
            "1.15.3\n",
            "False\n",
            "2.2.4\n"
          ],
          "name": "stdout"
        }
      ]
    },
    {
      "cell_type": "code",
      "metadata": {
        "id": "ffwZIi0VrhVc",
        "colab": {
          "base_uri": "https://localhost:8080/"
        },
        "outputId": "ad8d6dd6-a541-44cb-8b16-174eb2b97f80"
      },
      "source": [
        "!pip install tensorflow==1.15.3\n",
        "!pip install tensorflow-gpu==1.15.3\n",
        "!pip install keras==2.2.4\n",
        "!pip install git+https://github.com/matterport/Mask_RCNN.git"
      ],
      "execution_count": null,
      "outputs": [
        {
          "output_type": "stream",
          "text": [
            "Collecting tensorflow==1.15.3\n",
            "\u001b[?25l  Downloading https://files.pythonhosted.org/packages/02/36/9a02e27f0ec248b676a380ffe910c1858e3af3027c0d4d513dd0b56a5613/tensorflow-1.15.3-cp36-cp36m-manylinux2010_x86_64.whl (110.5MB)\n",
            "\u001b[K     |████████████████████████████████| 110.5MB 96kB/s \n",
            "\u001b[?25hRequirement already satisfied: google-pasta>=0.1.6 in /usr/local/lib/python3.6/dist-packages (from tensorflow==1.15.3) (0.2.0)\n",
            "Requirement already satisfied: opt-einsum>=2.3.2 in /usr/local/lib/python3.6/dist-packages (from tensorflow==1.15.3) (3.3.0)\n",
            "Requirement already satisfied: absl-py>=0.7.0 in /usr/local/lib/python3.6/dist-packages (from tensorflow==1.15.3) (0.10.0)\n",
            "Requirement already satisfied: termcolor>=1.1.0 in /usr/local/lib/python3.6/dist-packages (from tensorflow==1.15.3) (1.1.0)\n",
            "Collecting tensorboard<1.16.0,>=1.15.0\n",
            "\u001b[?25l  Downloading https://files.pythonhosted.org/packages/1e/e9/d3d747a97f7188f48aa5eda486907f3b345cd409f0a0850468ba867db246/tensorboard-1.15.0-py3-none-any.whl (3.8MB)\n",
            "\u001b[K     |████████████████████████████████| 3.8MB 55.6MB/s \n",
            "\u001b[?25hRequirement already satisfied: astor>=0.6.0 in /usr/local/lib/python3.6/dist-packages (from tensorflow==1.15.3) (0.8.1)\n",
            "Requirement already satisfied: wheel>=0.26; python_version >= \"3\" in /usr/local/lib/python3.6/dist-packages (from tensorflow==1.15.3) (0.35.1)\n",
            "Collecting tensorflow-estimator==1.15.1\n",
            "\u001b[?25l  Downloading https://files.pythonhosted.org/packages/de/62/2ee9cd74c9fa2fa450877847ba560b260f5d0fb70ee0595203082dafcc9d/tensorflow_estimator-1.15.1-py2.py3-none-any.whl (503kB)\n",
            "\u001b[K     |████████████████████████████████| 512kB 53.0MB/s \n",
            "\u001b[?25hRequirement already satisfied: numpy<2.0,>=1.16.0 in /usr/local/lib/python3.6/dist-packages (from tensorflow==1.15.3) (1.18.5)\n",
            "Requirement already satisfied: protobuf>=3.6.1 in /usr/local/lib/python3.6/dist-packages (from tensorflow==1.15.3) (3.12.4)\n",
            "Requirement already satisfied: keras-preprocessing>=1.0.5 in /usr/local/lib/python3.6/dist-packages (from tensorflow==1.15.3) (1.1.2)\n",
            "Requirement already satisfied: grpcio>=1.8.6 in /usr/local/lib/python3.6/dist-packages (from tensorflow==1.15.3) (1.33.2)\n",
            "Collecting gast==0.2.2\n",
            "  Downloading https://files.pythonhosted.org/packages/4e/35/11749bf99b2d4e3cceb4d55ca22590b0d7c2c62b9de38ac4a4a7f4687421/gast-0.2.2.tar.gz\n",
            "Requirement already satisfied: wrapt>=1.11.1 in /usr/local/lib/python3.6/dist-packages (from tensorflow==1.15.3) (1.12.1)\n",
            "Requirement already satisfied: six>=1.10.0 in /usr/local/lib/python3.6/dist-packages (from tensorflow==1.15.3) (1.15.0)\n",
            "Collecting keras-applications>=1.0.8\n",
            "\u001b[?25l  Downloading https://files.pythonhosted.org/packages/71/e3/19762fdfc62877ae9102edf6342d71b28fbfd9dea3d2f96a882ce099b03f/Keras_Applications-1.0.8-py3-none-any.whl (50kB)\n",
            "\u001b[K     |████████████████████████████████| 51kB 6.8MB/s \n",
            "\u001b[?25hRequirement already satisfied: markdown>=2.6.8 in /usr/local/lib/python3.6/dist-packages (from tensorboard<1.16.0,>=1.15.0->tensorflow==1.15.3) (3.3.3)\n",
            "Requirement already satisfied: werkzeug>=0.11.15 in /usr/local/lib/python3.6/dist-packages (from tensorboard<1.16.0,>=1.15.0->tensorflow==1.15.3) (1.0.1)\n",
            "Requirement already satisfied: setuptools>=41.0.0 in /usr/local/lib/python3.6/dist-packages (from tensorboard<1.16.0,>=1.15.0->tensorflow==1.15.3) (50.3.2)\n",
            "Requirement already satisfied: h5py in /usr/local/lib/python3.6/dist-packages (from keras-applications>=1.0.8->tensorflow==1.15.3) (2.10.0)\n",
            "Requirement already satisfied: importlib-metadata; python_version < \"3.8\" in /usr/local/lib/python3.6/dist-packages (from markdown>=2.6.8->tensorboard<1.16.0,>=1.15.0->tensorflow==1.15.3) (2.0.0)\n",
            "Requirement already satisfied: zipp>=0.5 in /usr/local/lib/python3.6/dist-packages (from importlib-metadata; python_version < \"3.8\"->markdown>=2.6.8->tensorboard<1.16.0,>=1.15.0->tensorflow==1.15.3) (3.4.0)\n",
            "Building wheels for collected packages: gast\n",
            "  Building wheel for gast (setup.py) ... \u001b[?25l\u001b[?25hdone\n",
            "  Created wheel for gast: filename=gast-0.2.2-cp36-none-any.whl size=7542 sha256=78a8f476bd87648b7713ebce89abf2e107a40e2df11eaec8aca5ff6e34144417\n",
            "  Stored in directory: /root/.cache/pip/wheels/5c/2e/7e/a1d4d4fcebe6c381f378ce7743a3ced3699feb89bcfbdadadd\n",
            "Successfully built gast\n",
            "\u001b[31mERROR: tensorflow-probability 0.11.0 has requirement gast>=0.3.2, but you'll have gast 0.2.2 which is incompatible.\u001b[0m\n",
            "Installing collected packages: tensorboard, tensorflow-estimator, gast, keras-applications, tensorflow\n",
            "  Found existing installation: tensorboard 2.3.0\n",
            "    Uninstalling tensorboard-2.3.0:\n",
            "      Successfully uninstalled tensorboard-2.3.0\n",
            "  Found existing installation: tensorflow-estimator 2.3.0\n",
            "    Uninstalling tensorflow-estimator-2.3.0:\n",
            "      Successfully uninstalled tensorflow-estimator-2.3.0\n",
            "  Found existing installation: gast 0.3.3\n",
            "    Uninstalling gast-0.3.3:\n",
            "      Successfully uninstalled gast-0.3.3\n",
            "  Found existing installation: tensorflow 2.3.0\n",
            "    Uninstalling tensorflow-2.3.0:\n",
            "      Successfully uninstalled tensorflow-2.3.0\n",
            "Successfully installed gast-0.2.2 keras-applications-1.0.8 tensorboard-1.15.0 tensorflow-1.15.3 tensorflow-estimator-1.15.1\n",
            "Collecting tensorflow-gpu==1.15.3\n",
            "\u001b[?25l  Downloading https://files.pythonhosted.org/packages/98/ab/19aba3629427c2d96790f73838639136ce02b6e7e1c4f2dd60149174c794/tensorflow_gpu-1.15.3-cp36-cp36m-manylinux2010_x86_64.whl (411.0MB)\n",
            "\u001b[K     |████████████████████████████████| 411.0MB 39kB/s \n",
            "\u001b[?25hRequirement already satisfied: wrapt>=1.11.1 in /usr/local/lib/python3.6/dist-packages (from tensorflow-gpu==1.15.3) (1.12.1)\n",
            "Requirement already satisfied: tensorflow-estimator==1.15.1 in /usr/local/lib/python3.6/dist-packages (from tensorflow-gpu==1.15.3) (1.15.1)\n",
            "Requirement already satisfied: termcolor>=1.1.0 in /usr/local/lib/python3.6/dist-packages (from tensorflow-gpu==1.15.3) (1.1.0)\n",
            "Requirement already satisfied: keras-preprocessing>=1.0.5 in /usr/local/lib/python3.6/dist-packages (from tensorflow-gpu==1.15.3) (1.1.2)\n",
            "Requirement already satisfied: protobuf>=3.6.1 in /usr/local/lib/python3.6/dist-packages (from tensorflow-gpu==1.15.3) (3.12.4)\n",
            "Requirement already satisfied: tensorboard<1.16.0,>=1.15.0 in /usr/local/lib/python3.6/dist-packages (from tensorflow-gpu==1.15.3) (1.15.0)\n",
            "Requirement already satisfied: grpcio>=1.8.6 in /usr/local/lib/python3.6/dist-packages (from tensorflow-gpu==1.15.3) (1.33.2)\n",
            "Requirement already satisfied: google-pasta>=0.1.6 in /usr/local/lib/python3.6/dist-packages (from tensorflow-gpu==1.15.3) (0.2.0)\n",
            "Requirement already satisfied: keras-applications>=1.0.8 in /usr/local/lib/python3.6/dist-packages (from tensorflow-gpu==1.15.3) (1.0.8)\n",
            "Requirement already satisfied: astor>=0.6.0 in /usr/local/lib/python3.6/dist-packages (from tensorflow-gpu==1.15.3) (0.8.1)\n",
            "Requirement already satisfied: six>=1.10.0 in /usr/local/lib/python3.6/dist-packages (from tensorflow-gpu==1.15.3) (1.15.0)\n",
            "Requirement already satisfied: gast==0.2.2 in /usr/local/lib/python3.6/dist-packages (from tensorflow-gpu==1.15.3) (0.2.2)\n",
            "Requirement already satisfied: opt-einsum>=2.3.2 in /usr/local/lib/python3.6/dist-packages (from tensorflow-gpu==1.15.3) (3.3.0)\n",
            "Requirement already satisfied: wheel>=0.26; python_version >= \"3\" in /usr/local/lib/python3.6/dist-packages (from tensorflow-gpu==1.15.3) (0.35.1)\n",
            "Requirement already satisfied: absl-py>=0.7.0 in /usr/local/lib/python3.6/dist-packages (from tensorflow-gpu==1.15.3) (0.10.0)\n",
            "Requirement already satisfied: numpy<2.0,>=1.16.0 in /usr/local/lib/python3.6/dist-packages (from tensorflow-gpu==1.15.3) (1.18.5)\n",
            "Requirement already satisfied: setuptools in /usr/local/lib/python3.6/dist-packages (from protobuf>=3.6.1->tensorflow-gpu==1.15.3) (50.3.2)\n",
            "Requirement already satisfied: markdown>=2.6.8 in /usr/local/lib/python3.6/dist-packages (from tensorboard<1.16.0,>=1.15.0->tensorflow-gpu==1.15.3) (3.3.3)\n",
            "Requirement already satisfied: werkzeug>=0.11.15 in /usr/local/lib/python3.6/dist-packages (from tensorboard<1.16.0,>=1.15.0->tensorflow-gpu==1.15.3) (1.0.1)\n",
            "Requirement already satisfied: h5py in /usr/local/lib/python3.6/dist-packages (from keras-applications>=1.0.8->tensorflow-gpu==1.15.3) (2.10.0)\n",
            "Requirement already satisfied: importlib-metadata; python_version < \"3.8\" in /usr/local/lib/python3.6/dist-packages (from markdown>=2.6.8->tensorboard<1.16.0,>=1.15.0->tensorflow-gpu==1.15.3) (2.0.0)\n",
            "Requirement already satisfied: zipp>=0.5 in /usr/local/lib/python3.6/dist-packages (from importlib-metadata; python_version < \"3.8\"->markdown>=2.6.8->tensorboard<1.16.0,>=1.15.0->tensorflow-gpu==1.15.3) (3.4.0)\n",
            "Installing collected packages: tensorflow-gpu\n",
            "Successfully installed tensorflow-gpu-1.15.3\n",
            "Collecting keras==2.2.4\n",
            "\u001b[?25l  Downloading https://files.pythonhosted.org/packages/5e/10/aa32dad071ce52b5502266b5c659451cfd6ffcbf14e6c8c4f16c0ff5aaab/Keras-2.2.4-py2.py3-none-any.whl (312kB)\n",
            "\u001b[K     |████████████████████████████████| 317kB 8.2MB/s \n",
            "\u001b[?25hRequirement already satisfied: scipy>=0.14 in /usr/local/lib/python3.6/dist-packages (from keras==2.2.4) (1.4.1)\n",
            "Requirement already satisfied: keras-applications>=1.0.6 in /usr/local/lib/python3.6/dist-packages (from keras==2.2.4) (1.0.8)\n",
            "Requirement already satisfied: h5py in /usr/local/lib/python3.6/dist-packages (from keras==2.2.4) (2.10.0)\n",
            "Requirement already satisfied: six>=1.9.0 in /usr/local/lib/python3.6/dist-packages (from keras==2.2.4) (1.15.0)\n",
            "Requirement already satisfied: pyyaml in /usr/local/lib/python3.6/dist-packages (from keras==2.2.4) (3.13)\n",
            "Requirement already satisfied: keras-preprocessing>=1.0.5 in /usr/local/lib/python3.6/dist-packages (from keras==2.2.4) (1.1.2)\n",
            "Requirement already satisfied: numpy>=1.9.1 in /usr/local/lib/python3.6/dist-packages (from keras==2.2.4) (1.18.5)\n",
            "Installing collected packages: keras\n",
            "  Found existing installation: Keras 2.4.3\n",
            "    Uninstalling Keras-2.4.3:\n",
            "      Successfully uninstalled Keras-2.4.3\n",
            "Successfully installed keras-2.2.4\n",
            "Collecting git+https://github.com/matterport/Mask_RCNN.git\n",
            "  Cloning https://github.com/matterport/Mask_RCNN.git to /tmp/pip-req-build-1xwwvmp7\n",
            "  Running command git clone -q https://github.com/matterport/Mask_RCNN.git /tmp/pip-req-build-1xwwvmp7\n",
            "Building wheels for collected packages: mask-rcnn\n",
            "  Building wheel for mask-rcnn (setup.py) ... \u001b[?25l\u001b[?25hdone\n",
            "  Created wheel for mask-rcnn: filename=mask_rcnn-2.1-cp36-none-any.whl size=56922 sha256=92323ed9b37089124b0e4a4b6971803daabb19f4d2115ffd4492d3ed1abc4e64\n",
            "  Stored in directory: /tmp/pip-ephem-wheel-cache-10c69w16/wheels/c2/db/78/1af79db27d80d68b0eb94d95fda90b8b2c2f6e8862b13d5d01\n",
            "Successfully built mask-rcnn\n",
            "Installing collected packages: mask-rcnn\n",
            "Successfully installed mask-rcnn-2.1\n"
          ],
          "name": "stdout"
        }
      ]
    },
    {
      "cell_type": "code",
      "metadata": {
        "id": "E3rEYmDJdlTG",
        "colab": {
          "base_uri": "https://localhost:8080/"
        },
        "outputId": "6fd93742-2ec6-46c0-9360-38f0d3d26b24"
      },
      "source": [
        "import tensorflow as tf\n",
        "import keras\n",
        "\n",
        "print(tf.__version__)\n",
        "print(keras.__version__)\n",
        "tf.test.is_gpu_available()"
      ],
      "execution_count": null,
      "outputs": [
        {
          "output_type": "stream",
          "text": [
            "Using TensorFlow backend.\n"
          ],
          "name": "stderr"
        },
        {
          "output_type": "stream",
          "text": [
            "1.15.3\n",
            "2.2.4\n"
          ],
          "name": "stdout"
        },
        {
          "output_type": "execute_result",
          "data": {
            "text/plain": [
              "True"
            ]
          },
          "metadata": {
            "tags": []
          },
          "execution_count": 1
        }
      ]
    },
    {
      "cell_type": "code",
      "metadata": {
        "colab": {
          "base_uri": "https://localhost:8080/"
        },
        "id": "YFYMh03rYEUG",
        "outputId": "a8d3ba3c-28bb-4c64-bcde-01ac9d40c7a5"
      },
      "source": [
        "from google.colab import drive\n",
        "\n",
        "drive.mount('/content/gdrive', force_remount=True)"
      ],
      "execution_count": null,
      "outputs": [
        {
          "output_type": "stream",
          "text": [
            "Mounted at /content/gdrive\n"
          ],
          "name": "stdout"
        }
      ]
    },
    {
      "cell_type": "code",
      "metadata": {
        "id": "RDju-pAhY3Gq"
      },
      "source": [
        "DATA_ROOT = '/content/gdrive/My Drive/images'\n",
        "RESOLUTION = 256"
      ],
      "execution_count": null,
      "outputs": []
    },
    {
      "cell_type": "code",
      "metadata": {
        "id": "-1v4eb06ZKR7"
      },
      "source": [
        "import os\n",
        "import json\n",
        "import numpy as np\n",
        "import matplotlib.pyplot as plt\n",
        "\n",
        "from mrcnn.utils import Dataset\n",
        "from mrcnn.config import Config\n",
        "from mrcnn.model import MaskRCNN\n",
        "\n",
        "class BuildingDataset(Dataset):\n",
        "\n",
        "    # load the dataset definitions\n",
        "    def load_dataset(self, dataset_dir, is_train=True):\n",
        "\n",
        "        # Read annotations and get the list of images to include in the model\n",
        "        annotations = json.load(open(f'{DATA_ROOT}/image_boxes.json'))\n",
        "        images = list(sorted(annotations.keys()))\n",
        "        train_images, test_images = images[:int(0.8 * len(images))], images[int(0.8 * len(images)):]\n",
        "\n",
        "        # define one class\n",
        "        self.add_class(\"dataset\", 1, \"building\")\n",
        "\n",
        "        # Add images\n",
        "        dataset_images = train_images if is_train else test_images\n",
        "        for image in dataset_images:\n",
        "            image_path = f'{DATA_ROOT}/data/256/{image}'\n",
        "            image_id = image\n",
        "            box = annotations[image]\n",
        "\n",
        "            # add to dataset\n",
        "            self.add_image('dataset', image_id=image_id, path=image_path, box=box)\n",
        "\n",
        "        # Add image with no boxes\n",
        "        bad_images = sorted([i for i in os.listdir(f'{DATA_ROOT}/data/256_bad') if i!='.DS_Store'])[:200]\n",
        "        bad_train_images, bad_test_images = bad_images[:int(0.8 * len(bad_images))], bad_images[int(0.8 * len(bad_images)):]\n",
        "        bad_dataset_images = bad_train_images if is_train else bad_test_images\n",
        "        for image in bad_dataset_images:\n",
        "            image_path = f'{DATA_ROOT}/data/256_bad/{image}'\n",
        "            image_id = image\n",
        "\n",
        "            # add to dataset\n",
        "            self.add_image('dataset', image_id=image_id, path=image_path, box=None)\n",
        " \n",
        "    # load the masks for an image\n",
        "    def load_mask(self, image_id):\n",
        "\n",
        "        # Get details of image\n",
        "        info = self.image_info[image_id]\n",
        "        if info['box'] is None:\n",
        "            masks = np.zeros([0, 0, 0], dtype='uint8')\n",
        "        else:\n",
        "            box = (np.clip(np.array(info['box']), 0, 1) * 255).astype(np.uint8)\n",
        "            masks = np.zeros([RESOLUTION, RESOLUTION, 1], dtype='uint8')\n",
        "            # create masks\n",
        "            row_1, row_2 = box[1], box[3]\n",
        "            col_1, col_2 = box[0], box[2]\n",
        "            masks[row_1:row_2, col_1:col_2, 0] = 1\n",
        "\n",
        "        nb_masks = masks.shape[2]\n",
        "\n",
        "        return masks, np.asarray([self.class_names.index('building')] * nb_masks, dtype='int32')\n",
        " \n",
        "\n",
        "    # load an image reference\n",
        "    def image_reference(self, image_id):\n",
        "        info = self.image_info[image_id]\n",
        "        return info['path']"
      ],
      "execution_count": null,
      "outputs": []
    },
    {
      "cell_type": "code",
      "metadata": {
        "colab": {
          "base_uri": "https://localhost:8080/"
        },
        "id": "jaTLuJK2ZZ7y",
        "outputId": "d102943a-eae6-4157-ed01-a5366ee2bb11"
      },
      "source": [
        "# train set\n",
        "train_set = BuildingDataset()\n",
        "train_set.load_dataset('building', is_train=True)\n",
        "train_set.prepare()\n",
        "print('Train: %d' % len(train_set.image_ids))\n",
        " \n",
        "# test/val set\n",
        "test_set = BuildingDataset()\n",
        "test_set.load_dataset('building', is_train=False)\n",
        "test_set.prepare()\n",
        "print('Test: %d' % len(test_set.image_ids))"
      ],
      "execution_count": null,
      "outputs": [
        {
          "output_type": "stream",
          "text": [
            "Train: 411\n",
            "Test: 103\n"
          ],
          "name": "stdout"
        }
      ]
    },
    {
      "cell_type": "code",
      "metadata": {
        "id": "8KgOox3BZpQA"
      },
      "source": [
        "# define a configuration for the model\n",
        "class BuildingConfig(Config):\n",
        "    # Give the configuration a recognizable name\n",
        "    NAME = \"building_cfg\"\n",
        "    # Number of classes (background + kangaroo)\n",
        "    NUM_CLASSES = 1 + 1\n",
        "    # Number of training steps per epoch\n",
        "    STEPS_PER_EPOCH = 125\n",
        "\n",
        "    IMAGES_PER_GPU = 1\n"
      ],
      "execution_count": null,
      "outputs": []
    },
    {
      "cell_type": "code",
      "metadata": {
        "id": "fUtZAahoZxd7",
        "colab": {
          "base_uri": "https://localhost:8080/"
        },
        "outputId": "54c0b984-7354-4791-a6d4-d81a7dcacbad"
      },
      "source": [
        "model_path = f'/{DATA_ROOT}/mask_rcnn_coco.h5'\n",
        "\n",
        "config = BuildingConfig()\n",
        "print(config.BATCH_SIZE)\n",
        "model = MaskRCNN(mode='training', model_dir=f'/{DATA_ROOT}/building_detection/', config=config)\n",
        "model.load_weights(model_path, by_name=True, exclude=[\"mrcnn_class_logits\", \"mrcnn_bbox_fc\",  \"mrcnn_bbox\", \"mrcnn_mask\"])"
      ],
      "execution_count": null,
      "outputs": [
        {
          "output_type": "stream",
          "text": [
            "1\n",
            "WARNING:tensorflow:From /usr/local/lib/python3.6/dist-packages/keras/backend/tensorflow_backend.py:517: The name tf.placeholder is deprecated. Please use tf.compat.v1.placeholder instead.\n",
            "\n",
            "WARNING:tensorflow:From /usr/local/lib/python3.6/dist-packages/keras/backend/tensorflow_backend.py:74: The name tf.get_default_graph is deprecated. Please use tf.compat.v1.get_default_graph instead.\n",
            "\n",
            "WARNING:tensorflow:From /usr/local/lib/python3.6/dist-packages/keras/backend/tensorflow_backend.py:4138: The name tf.random_uniform is deprecated. Please use tf.random.uniform instead.\n",
            "\n",
            "WARNING:tensorflow:From /usr/local/lib/python3.6/dist-packages/keras/backend/tensorflow_backend.py:1919: The name tf.nn.fused_batch_norm is deprecated. Please use tf.compat.v1.nn.fused_batch_norm instead.\n",
            "\n",
            "WARNING:tensorflow:From /usr/local/lib/python3.6/dist-packages/keras/backend/tensorflow_backend.py:3976: The name tf.nn.max_pool is deprecated. Please use tf.nn.max_pool2d instead.\n",
            "\n",
            "WARNING:tensorflow:From /usr/local/lib/python3.6/dist-packages/keras/backend/tensorflow_backend.py:2018: The name tf.image.resize_nearest_neighbor is deprecated. Please use tf.compat.v1.image.resize_nearest_neighbor instead.\n",
            "\n",
            "WARNING:tensorflow:From /usr/local/lib/python3.6/dist-packages/tensorflow_core/python/ops/array_ops.py:1475: where (from tensorflow.python.ops.array_ops) is deprecated and will be removed in a future version.\n",
            "Instructions for updating:\n",
            "Use tf.where in 2.0, which has the same broadcast rule as np.where\n",
            "WARNING:tensorflow:From /usr/local/lib/python3.6/dist-packages/mrcnn/model.py:553: The name tf.random_shuffle is deprecated. Please use tf.random.shuffle instead.\n",
            "\n",
            "WARNING:tensorflow:From /usr/local/lib/python3.6/dist-packages/mrcnn/utils.py:202: The name tf.log is deprecated. Please use tf.math.log instead.\n",
            "\n",
            "WARNING:tensorflow:From /usr/local/lib/python3.6/dist-packages/mrcnn/model.py:600: calling crop_and_resize_v1 (from tensorflow.python.ops.image_ops_impl) with box_ind is deprecated and will be removed in a future version.\n",
            "Instructions for updating:\n",
            "box_ind is deprecated, use box_indices instead\n",
            "WARNING:tensorflow:From /usr/local/lib/python3.6/dist-packages/keras/backend/tensorflow_backend.py:174: The name tf.get_default_session is deprecated. Please use tf.compat.v1.get_default_session instead.\n",
            "\n",
            "WARNING:tensorflow:From /usr/local/lib/python3.6/dist-packages/keras/backend/tensorflow_backend.py:181: The name tf.ConfigProto is deprecated. Please use tf.compat.v1.ConfigProto instead.\n",
            "\n",
            "WARNING:tensorflow:From /usr/local/lib/python3.6/dist-packages/keras/backend/tensorflow_backend.py:186: The name tf.Session is deprecated. Please use tf.compat.v1.Session instead.\n",
            "\n",
            "WARNING:tensorflow:From /usr/local/lib/python3.6/dist-packages/keras/backend/tensorflow_backend.py:190: The name tf.global_variables is deprecated. Please use tf.compat.v1.global_variables instead.\n",
            "\n",
            "WARNING:tensorflow:From /usr/local/lib/python3.6/dist-packages/keras/backend/tensorflow_backend.py:199: The name tf.is_variable_initialized is deprecated. Please use tf.compat.v1.is_variable_initialized instead.\n",
            "\n",
            "WARNING:tensorflow:From /usr/local/lib/python3.6/dist-packages/keras/backend/tensorflow_backend.py:206: The name tf.variables_initializer is deprecated. Please use tf.compat.v1.variables_initializer instead.\n",
            "\n"
          ],
          "name": "stdout"
        }
      ]
    },
    {
      "cell_type": "code",
      "metadata": {
        "id": "EpaXGeChagnW",
        "colab": {
          "base_uri": "https://localhost:8080/"
        },
        "outputId": "5b97d54d-4e0f-4fbf-9d51-f57ab7edf52e"
      },
      "source": [
        "model.train(train_set, test_set, learning_rate=config.LEARNING_RATE, epochs=50, layers='heads')"
      ],
      "execution_count": null,
      "outputs": [
        {
          "output_type": "stream",
          "text": [
            "\n",
            "Starting at epoch 20. LR=0.001\n",
            "\n",
            "Checkpoint Path: //content/gdrive/My Drive/images/building_detection/building_cfg20201119T1310/mask_rcnn_building_cfg_{epoch:04d}.h5\n",
            "Selecting layers to train\n",
            "fpn_c5p5               (Conv2D)\n",
            "fpn_c4p4               (Conv2D)\n",
            "fpn_c3p3               (Conv2D)\n",
            "fpn_c2p2               (Conv2D)\n",
            "fpn_p5                 (Conv2D)\n",
            "fpn_p2                 (Conv2D)\n",
            "fpn_p3                 (Conv2D)\n",
            "fpn_p4                 (Conv2D)\n",
            "In model:  rpn_model\n",
            "    rpn_conv_shared        (Conv2D)\n",
            "    rpn_class_raw          (Conv2D)\n",
            "    rpn_bbox_pred          (Conv2D)\n",
            "mrcnn_mask_conv1       (TimeDistributed)\n",
            "mrcnn_mask_bn1         (TimeDistributed)\n",
            "mrcnn_mask_conv2       (TimeDistributed)\n",
            "mrcnn_mask_bn2         (TimeDistributed)\n",
            "mrcnn_class_conv1      (TimeDistributed)\n",
            "mrcnn_class_bn1        (TimeDistributed)\n",
            "mrcnn_mask_conv3       (TimeDistributed)\n",
            "mrcnn_mask_bn3         (TimeDistributed)\n",
            "mrcnn_class_conv2      (TimeDistributed)\n",
            "mrcnn_class_bn2        (TimeDistributed)\n",
            "mrcnn_mask_conv4       (TimeDistributed)\n",
            "mrcnn_mask_bn4         (TimeDistributed)\n",
            "mrcnn_bbox_fc          (TimeDistributed)\n",
            "mrcnn_mask_deconv      (TimeDistributed)\n",
            "mrcnn_class_logits     (TimeDistributed)\n",
            "mrcnn_mask             (TimeDistributed)\n"
          ],
          "name": "stdout"
        },
        {
          "output_type": "stream",
          "text": [
            "/usr/local/lib/python3.6/dist-packages/tensorflow_core/python/framework/indexed_slices.py:424: UserWarning: Converting sparse IndexedSlices to a dense Tensor of unknown shape. This may consume a large amount of memory.\n",
            "  \"Converting sparse IndexedSlices to a dense Tensor of unknown shape. \"\n",
            "/usr/local/lib/python3.6/dist-packages/tensorflow_core/python/framework/indexed_slices.py:424: UserWarning: Converting sparse IndexedSlices to a dense Tensor of unknown shape. This may consume a large amount of memory.\n",
            "  \"Converting sparse IndexedSlices to a dense Tensor of unknown shape. \"\n",
            "/usr/local/lib/python3.6/dist-packages/tensorflow_core/python/framework/indexed_slices.py:424: UserWarning: Converting sparse IndexedSlices to a dense Tensor of unknown shape. This may consume a large amount of memory.\n",
            "  \"Converting sparse IndexedSlices to a dense Tensor of unknown shape. \"\n",
            "/usr/local/lib/python3.6/dist-packages/keras/engine/training_generator.py:47: UserWarning: Using a generator with `use_multiprocessing=True` and multiple workers may duplicate your data. Please consider using the`keras.utils.Sequence class.\n",
            "  UserWarning('Using a generator with `use_multiprocessing=True`'\n"
          ],
          "name": "stderr"
        },
        {
          "output_type": "stream",
          "text": [
            "Epoch 21/50\n",
            "125/125 [==============================] - 89s 709ms/step - loss: 0.4491 - rpn_class_loss: 0.0034 - rpn_bbox_loss: 0.1534 - mrcnn_class_loss: 0.0404 - mrcnn_bbox_loss: 0.0874 - mrcnn_mask_loss: 0.1645 - val_loss: 0.5305 - val_rpn_class_loss: 0.0035 - val_rpn_bbox_loss: 0.1848 - val_mrcnn_class_loss: 0.0601 - val_mrcnn_bbox_loss: 0.1325 - val_mrcnn_mask_loss: 0.1496\n",
            "Epoch 22/50\n",
            "125/125 [==============================] - 48s 385ms/step - loss: 0.3887 - rpn_class_loss: 0.0030 - rpn_bbox_loss: 0.1251 - mrcnn_class_loss: 0.0420 - mrcnn_bbox_loss: 0.0655 - mrcnn_mask_loss: 0.1531 - val_loss: 0.6511 - val_rpn_class_loss: 0.0042 - val_rpn_bbox_loss: 0.2538 - val_mrcnn_class_loss: 0.0578 - val_mrcnn_bbox_loss: 0.1499 - val_mrcnn_mask_loss: 0.1854\n",
            "Epoch 23/50\n",
            "125/125 [==============================] - 48s 386ms/step - loss: 0.4581 - rpn_class_loss: 0.0025 - rpn_bbox_loss: 0.1494 - mrcnn_class_loss: 0.0459 - mrcnn_bbox_loss: 0.0940 - mrcnn_mask_loss: 0.1663 - val_loss: 0.6486 - val_rpn_class_loss: 0.0032 - val_rpn_bbox_loss: 0.2287 - val_mrcnn_class_loss: 0.0585 - val_mrcnn_bbox_loss: 0.1656 - val_mrcnn_mask_loss: 0.1925\n",
            "Epoch 24/50\n",
            "125/125 [==============================] - 48s 382ms/step - loss: 0.3252 - rpn_class_loss: 0.0024 - rpn_bbox_loss: 0.0940 - mrcnn_class_loss: 0.0371 - mrcnn_bbox_loss: 0.0579 - mrcnn_mask_loss: 0.1338 - val_loss: 0.5547 - val_rpn_class_loss: 0.0037 - val_rpn_bbox_loss: 0.2231 - val_mrcnn_class_loss: 0.0468 - val_mrcnn_bbox_loss: 0.1222 - val_mrcnn_mask_loss: 0.1590\n",
            "Epoch 25/50\n",
            "125/125 [==============================] - 48s 385ms/step - loss: 0.3665 - rpn_class_loss: 0.0030 - rpn_bbox_loss: 0.1094 - mrcnn_class_loss: 0.0391 - mrcnn_bbox_loss: 0.0674 - mrcnn_mask_loss: 0.1476 - val_loss: 0.5735 - val_rpn_class_loss: 0.0030 - val_rpn_bbox_loss: 0.2436 - val_mrcnn_class_loss: 0.0414 - val_mrcnn_bbox_loss: 0.1269 - val_mrcnn_mask_loss: 0.1585\n",
            "Epoch 26/50\n",
            "125/125 [==============================] - 47s 379ms/step - loss: 0.3145 - rpn_class_loss: 0.0028 - rpn_bbox_loss: 0.0900 - mrcnn_class_loss: 0.0358 - mrcnn_bbox_loss: 0.0520 - mrcnn_mask_loss: 0.1339 - val_loss: 0.6107 - val_rpn_class_loss: 0.0042 - val_rpn_bbox_loss: 0.2308 - val_mrcnn_class_loss: 0.0586 - val_mrcnn_bbox_loss: 0.1367 - val_mrcnn_mask_loss: 0.1803\n",
            "Epoch 27/50\n",
            "125/125 [==============================] - 48s 380ms/step - loss: 0.3027 - rpn_class_loss: 0.0024 - rpn_bbox_loss: 0.0871 - mrcnn_class_loss: 0.0302 - mrcnn_bbox_loss: 0.0552 - mrcnn_mask_loss: 0.1277 - val_loss: 0.5380 - val_rpn_class_loss: 0.0031 - val_rpn_bbox_loss: 0.2188 - val_mrcnn_class_loss: 0.0333 - val_mrcnn_bbox_loss: 0.1250 - val_mrcnn_mask_loss: 0.1579\n",
            "Epoch 28/50\n",
            "125/125 [==============================] - 47s 380ms/step - loss: 0.2754 - rpn_class_loss: 0.0027 - rpn_bbox_loss: 0.0845 - mrcnn_class_loss: 0.0324 - mrcnn_bbox_loss: 0.0419 - mrcnn_mask_loss: 0.1139 - val_loss: 0.6221 - val_rpn_class_loss: 0.0040 - val_rpn_bbox_loss: 0.2622 - val_mrcnn_class_loss: 0.0464 - val_mrcnn_bbox_loss: 0.1215 - val_mrcnn_mask_loss: 0.1880\n",
            "Epoch 29/50\n",
            "125/125 [==============================] - 48s 382ms/step - loss: 0.2802 - rpn_class_loss: 0.0022 - rpn_bbox_loss: 0.0643 - mrcnn_class_loss: 0.0339 - mrcnn_bbox_loss: 0.0494 - mrcnn_mask_loss: 0.1303 - val_loss: 0.5736 - val_rpn_class_loss: 0.0027 - val_rpn_bbox_loss: 0.1733 - val_mrcnn_class_loss: 0.0449 - val_mrcnn_bbox_loss: 0.1437 - val_mrcnn_mask_loss: 0.2090\n",
            "Epoch 30/50\n",
            "125/125 [==============================] - 48s 387ms/step - loss: 0.2684 - rpn_class_loss: 0.0020 - rpn_bbox_loss: 0.0538 - mrcnn_class_loss: 0.0303 - mrcnn_bbox_loss: 0.0581 - mrcnn_mask_loss: 0.1241 - val_loss: 0.6820 - val_rpn_class_loss: 0.0042 - val_rpn_bbox_loss: 0.2454 - val_mrcnn_class_loss: 0.0587 - val_mrcnn_bbox_loss: 0.1649 - val_mrcnn_mask_loss: 0.2088\n",
            "Epoch 31/50\n",
            "125/125 [==============================] - 47s 378ms/step - loss: 0.3125 - rpn_class_loss: 0.0027 - rpn_bbox_loss: 0.0907 - mrcnn_class_loss: 0.0321 - mrcnn_bbox_loss: 0.0538 - mrcnn_mask_loss: 0.1332 - val_loss: 0.6463 - val_rpn_class_loss: 0.0034 - val_rpn_bbox_loss: 0.2345 - val_mrcnn_class_loss: 0.0607 - val_mrcnn_bbox_loss: 0.1416 - val_mrcnn_mask_loss: 0.2060\n",
            "Epoch 32/50\n",
            "125/125 [==============================] - 47s 380ms/step - loss: 0.2756 - rpn_class_loss: 0.0024 - rpn_bbox_loss: 0.0770 - mrcnn_class_loss: 0.0351 - mrcnn_bbox_loss: 0.0472 - mrcnn_mask_loss: 0.1139 - val_loss: 0.6585 - val_rpn_class_loss: 0.0032 - val_rpn_bbox_loss: 0.2686 - val_mrcnn_class_loss: 0.0559 - val_mrcnn_bbox_loss: 0.1332 - val_mrcnn_mask_loss: 0.1976\n",
            "Epoch 33/50\n",
            "125/125 [==============================] - 48s 380ms/step - loss: 0.2491 - rpn_class_loss: 0.0022 - rpn_bbox_loss: 0.0615 - mrcnn_class_loss: 0.0347 - mrcnn_bbox_loss: 0.0337 - mrcnn_mask_loss: 0.1169 - val_loss: 0.5025 - val_rpn_class_loss: 0.0033 - val_rpn_bbox_loss: 0.2145 - val_mrcnn_class_loss: 0.0431 - val_mrcnn_bbox_loss: 0.1044 - val_mrcnn_mask_loss: 0.1372\n",
            "Epoch 34/50\n",
            "125/125 [==============================] - 47s 380ms/step - loss: 0.2709 - rpn_class_loss: 0.0019 - rpn_bbox_loss: 0.0553 - mrcnn_class_loss: 0.0377 - mrcnn_bbox_loss: 0.0458 - mrcnn_mask_loss: 0.1301 - val_loss: 0.7224 - val_rpn_class_loss: 0.0026 - val_rpn_bbox_loss: 0.2743 - val_mrcnn_class_loss: 0.0661 - val_mrcnn_bbox_loss: 0.1563 - val_mrcnn_mask_loss: 0.2232\n",
            "Epoch 35/50\n",
            "125/125 [==============================] - 48s 380ms/step - loss: 0.2659 - rpn_class_loss: 0.0020 - rpn_bbox_loss: 0.0699 - mrcnn_class_loss: 0.0356 - mrcnn_bbox_loss: 0.0399 - mrcnn_mask_loss: 0.1184 - val_loss: 0.5974 - val_rpn_class_loss: 0.0044 - val_rpn_bbox_loss: 0.2653 - val_mrcnn_class_loss: 0.0473 - val_mrcnn_bbox_loss: 0.1128 - val_mrcnn_mask_loss: 0.1676\n",
            "Epoch 36/50\n",
            "125/125 [==============================] - 47s 380ms/step - loss: 0.2779 - rpn_class_loss: 0.0023 - rpn_bbox_loss: 0.0624 - mrcnn_class_loss: 0.0317 - mrcnn_bbox_loss: 0.0493 - mrcnn_mask_loss: 0.1322 - val_loss: 0.5036 - val_rpn_class_loss: 0.0035 - val_rpn_bbox_loss: 0.2055 - val_mrcnn_class_loss: 0.0409 - val_mrcnn_bbox_loss: 0.1167 - val_mrcnn_mask_loss: 0.1370\n",
            "Epoch 37/50\n",
            "125/125 [==============================] - 48s 381ms/step - loss: 0.2363 - rpn_class_loss: 0.0022 - rpn_bbox_loss: 0.0638 - mrcnn_class_loss: 0.0242 - mrcnn_bbox_loss: 0.0366 - mrcnn_mask_loss: 0.1096 - val_loss: 0.5802 - val_rpn_class_loss: 0.0037 - val_rpn_bbox_loss: 0.2340 - val_mrcnn_class_loss: 0.0400 - val_mrcnn_bbox_loss: 0.1182 - val_mrcnn_mask_loss: 0.1843\n",
            "Epoch 38/50\n",
            "125/125 [==============================] - 47s 379ms/step - loss: 0.2234 - rpn_class_loss: 0.0022 - rpn_bbox_loss: 0.0505 - mrcnn_class_loss: 0.0266 - mrcnn_bbox_loss: 0.0340 - mrcnn_mask_loss: 0.1102 - val_loss: 0.7142 - val_rpn_class_loss: 0.0029 - val_rpn_bbox_loss: 0.2735 - val_mrcnn_class_loss: 0.0696 - val_mrcnn_bbox_loss: 0.1549 - val_mrcnn_mask_loss: 0.2132\n",
            "Epoch 39/50\n",
            "125/125 [==============================] - 47s 380ms/step - loss: 0.2322 - rpn_class_loss: 0.0023 - rpn_bbox_loss: 0.0529 - mrcnn_class_loss: 0.0295 - mrcnn_bbox_loss: 0.0365 - mrcnn_mask_loss: 0.1109 - val_loss: 0.5131 - val_rpn_class_loss: 0.0020 - val_rpn_bbox_loss: 0.1814 - val_mrcnn_class_loss: 0.0446 - val_mrcnn_bbox_loss: 0.1129 - val_mrcnn_mask_loss: 0.1722\n",
            "Epoch 40/50\n",
            "125/125 [==============================] - 48s 383ms/step - loss: 0.2358 - rpn_class_loss: 0.0018 - rpn_bbox_loss: 0.0491 - mrcnn_class_loss: 0.0298 - mrcnn_bbox_loss: 0.0407 - mrcnn_mask_loss: 0.1144 - val_loss: 0.6994 - val_rpn_class_loss: 0.0034 - val_rpn_bbox_loss: 0.2635 - val_mrcnn_class_loss: 0.0617 - val_mrcnn_bbox_loss: 0.1504 - val_mrcnn_mask_loss: 0.2205\n",
            "Epoch 41/50\n",
            "125/125 [==============================] - 47s 380ms/step - loss: 0.2205 - rpn_class_loss: 0.0023 - rpn_bbox_loss: 0.0501 - mrcnn_class_loss: 0.0329 - mrcnn_bbox_loss: 0.0324 - mrcnn_mask_loss: 0.1029 - val_loss: 0.7403 - val_rpn_class_loss: 0.0029 - val_rpn_bbox_loss: 0.2856 - val_mrcnn_class_loss: 0.0651 - val_mrcnn_bbox_loss: 0.1576 - val_mrcnn_mask_loss: 0.2290\n",
            "Epoch 42/50\n",
            "125/125 [==============================] - 48s 380ms/step - loss: 0.2019 - rpn_class_loss: 0.0020 - rpn_bbox_loss: 0.0400 - mrcnn_class_loss: 0.0285 - mrcnn_bbox_loss: 0.0275 - mrcnn_mask_loss: 0.1039 - val_loss: 0.5496 - val_rpn_class_loss: 0.0029 - val_rpn_bbox_loss: 0.2332 - val_mrcnn_class_loss: 0.0397 - val_mrcnn_bbox_loss: 0.1091 - val_mrcnn_mask_loss: 0.1647\n",
            "Epoch 43/50\n",
            "125/125 [==============================] - 47s 379ms/step - loss: 0.2164 - rpn_class_loss: 0.0030 - rpn_bbox_loss: 0.0462 - mrcnn_class_loss: 0.0304 - mrcnn_bbox_loss: 0.0284 - mrcnn_mask_loss: 0.1084 - val_loss: 0.5551 - val_rpn_class_loss: 0.0027 - val_rpn_bbox_loss: 0.2690 - val_mrcnn_class_loss: 0.0657 - val_mrcnn_bbox_loss: 0.0898 - val_mrcnn_mask_loss: 0.1278\n",
            "Epoch 44/50\n",
            "125/125 [==============================] - 48s 381ms/step - loss: 0.2295 - rpn_class_loss: 0.0021 - rpn_bbox_loss: 0.0571 - mrcnn_class_loss: 0.0290 - mrcnn_bbox_loss: 0.0355 - mrcnn_mask_loss: 0.1058 - val_loss: 0.5629 - val_rpn_class_loss: 0.0029 - val_rpn_bbox_loss: 0.2496 - val_mrcnn_class_loss: 0.0424 - val_mrcnn_bbox_loss: 0.0982 - val_mrcnn_mask_loss: 0.1697\n",
            "Epoch 45/50\n",
            "125/125 [==============================] - 47s 379ms/step - loss: 0.2009 - rpn_class_loss: 0.0024 - rpn_bbox_loss: 0.0457 - mrcnn_class_loss: 0.0295 - mrcnn_bbox_loss: 0.0277 - mrcnn_mask_loss: 0.0956 - val_loss: 0.6281 - val_rpn_class_loss: 0.0032 - val_rpn_bbox_loss: 0.2147 - val_mrcnn_class_loss: 0.0599 - val_mrcnn_bbox_loss: 0.1351 - val_mrcnn_mask_loss: 0.2152\n",
            "Epoch 46/50\n",
            "125/125 [==============================] - 47s 379ms/step - loss: 0.2144 - rpn_class_loss: 0.0016 - rpn_bbox_loss: 0.0466 - mrcnn_class_loss: 0.0307 - mrcnn_bbox_loss: 0.0321 - mrcnn_mask_loss: 0.1033 - val_loss: 0.7413 - val_rpn_class_loss: 0.0041 - val_rpn_bbox_loss: 0.2901 - val_mrcnn_class_loss: 0.0537 - val_mrcnn_bbox_loss: 0.1496 - val_mrcnn_mask_loss: 0.2437\n",
            "Epoch 47/50\n",
            "125/125 [==============================] - 48s 383ms/step - loss: 0.1890 - rpn_class_loss: 0.0016 - rpn_bbox_loss: 0.0383 - mrcnn_class_loss: 0.0280 - mrcnn_bbox_loss: 0.0262 - mrcnn_mask_loss: 0.0948 - val_loss: 0.6281 - val_rpn_class_loss: 0.0031 - val_rpn_bbox_loss: 0.2243 - val_mrcnn_class_loss: 0.0749 - val_mrcnn_bbox_loss: 0.1311 - val_mrcnn_mask_loss: 0.1946\n",
            "Epoch 48/50\n",
            "125/125 [==============================] - 48s 381ms/step - loss: 0.2063 - rpn_class_loss: 0.0018 - rpn_bbox_loss: 0.0406 - mrcnn_class_loss: 0.0270 - mrcnn_bbox_loss: 0.0323 - mrcnn_mask_loss: 0.1045 - val_loss: 0.6492 - val_rpn_class_loss: 0.0023 - val_rpn_bbox_loss: 0.2498 - val_mrcnn_class_loss: 0.0595 - val_mrcnn_bbox_loss: 0.1341 - val_mrcnn_mask_loss: 0.2034\n",
            "Epoch 49/50\n",
            "125/125 [==============================] - 48s 384ms/step - loss: 0.1774 - rpn_class_loss: 0.0019 - rpn_bbox_loss: 0.0316 - mrcnn_class_loss: 0.0266 - mrcnn_bbox_loss: 0.0284 - mrcnn_mask_loss: 0.0889 - val_loss: 0.6675 - val_rpn_class_loss: 0.0058 - val_rpn_bbox_loss: 0.2660 - val_mrcnn_class_loss: 0.0476 - val_mrcnn_bbox_loss: 0.1300 - val_mrcnn_mask_loss: 0.2180\n",
            "Epoch 50/50\n",
            "125/125 [==============================] - 47s 380ms/step - loss: 0.1911 - rpn_class_loss: 0.0021 - rpn_bbox_loss: 0.0437 - mrcnn_class_loss: 0.0260 - mrcnn_bbox_loss: 0.0248 - mrcnn_mask_loss: 0.0945 - val_loss: 0.5455 - val_rpn_class_loss: 0.0027 - val_rpn_bbox_loss: 0.2375 - val_mrcnn_class_loss: 0.0421 - val_mrcnn_bbox_loss: 0.1084 - val_mrcnn_mask_loss: 0.1548\n"
          ],
          "name": "stdout"
        }
      ]
    },
    {
      "cell_type": "code",
      "metadata": {
        "id": "gD-LP5l_TNdk"
      },
      "source": [
        ""
      ],
      "execution_count": null,
      "outputs": []
    }
  ]
}